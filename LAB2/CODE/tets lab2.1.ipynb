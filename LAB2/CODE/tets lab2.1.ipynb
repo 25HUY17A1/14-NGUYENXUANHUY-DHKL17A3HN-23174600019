{
 "cells": [
  {
   "cell_type": "markdown",
   "metadata": {},
   "source": [
    "2.1A"
   ]
  },
  {
   "cell_type": "code",
   "execution_count": 21,
   "metadata": {},
   "outputs": [
    {
     "name": "stdout",
     "output_type": "stream",
     "text": [
      "\n",
      "Nhiệt độ trong tháng là : [10.65 26.85 12.67 23.14 26.79 12.72 14.01 12.56 21.65 20.13 18.24 20.35\n",
      " 18.88 11.26 28.26 14.07 19.74 17.78 11.6  18.6  22.66 11.97 21.92 20.8\n",
      " 18.5  15.82 20.23 21.57 15.02 15.43]\n",
      "Trung bình nhiệt độ trong tháng là : 18.128999999999998\n"
     ]
    }
   ],
   "source": [
    "import numpy as np\n",
    "nhiet_do=np.round(np.random.uniform(10,30,size=30),2)\n",
    "print(\"\\nNhiệt độ trong tháng là :\",nhiet_do)\n",
    "print(\"Trung bình nhiệt độ trong tháng là :\",np.mean(nhiet_do))"
   ]
  },
  {
   "cell_type": "markdown",
   "metadata": {},
   "source": [
    "2.1B\n",
    "Xác định ngày có nhiệt độ cao nhất, thấp nhất cho biết đó là ngày thứ mấy trong\n",
    "tháng?\n",
    " Thống kê sự chênh lệch nhiệt độ giữa các ngày, tìm ngày có sự biến đổi nhiệt độ cao\n",
    "nhất?\n"
   ]
  },
  {
   "cell_type": "code",
   "execution_count": 22,
   "metadata": {},
   "outputs": [
    {
     "name": "stdout",
     "output_type": "stream",
     "text": [
      "Nhiệt độ cao nhất trong tháng là : 28.26 độ C .Là ngày 15 trong tháng\n",
      "Nhiệt độ thấp nhất trong tháng là : 10.65 độ C.Là ngày 1 trong tháng\n"
     ]
    }
   ],
   "source": [
    "nhiet_do_cao_nhat=np.max(nhiet_do)\n",
    "nhiet_do_thap_nhat=np.min(nhiet_do)\n",
    "ngay_nhiet_do_cao_nhat=np.argmax(nhiet_do)+1\n",
    "ngay_nhiet_do_thap_nhat=np.argmin(nhiet_do)+1\n",
    "print(f\"Nhiệt độ cao nhất trong tháng là :\",nhiet_do_cao_nhat,\"độ C .Là ngày\",ngay_nhiet_do_cao_nhat,\"trong tháng\")\n",
    "print(f\"Nhiệt độ thấp nhất trong tháng là :\",nhiet_do_thap_nhat,\"độ C.Là ngày\",ngay_nhiet_do_thap_nhat,\"trong tháng\")"
   ]
  },
  {
   "cell_type": "markdown",
   "metadata": {},
   "source": [
    "THÔNG KÊ CHÊNH LỆCH"
   ]
  },
  {
   "cell_type": "code",
   "execution_count": 23,
   "metadata": {},
   "outputs": [
    {
     "name": "stdout",
     "output_type": "stream",
     "text": [
      "[16.2  14.18 10.47  3.65 14.07  1.29  1.45  9.09  1.52  1.89  2.11  1.47\n",
      "  7.62 17.   14.19  5.67  1.96  6.18  7.    4.06 10.69  9.95  1.12  2.3\n",
      "  2.68  4.41  1.34  6.55  0.41]\n",
      "Sự chênh lệch lớn nhất là :17.0 độ C, giữa ngày 14 và 15\n"
     ]
    }
   ],
   "source": [
    "ngay_chenh_lech=[]\n",
    "for i in range(len(nhiet_do)-1):\n",
    "    chenh_lech_nhiet_do = round(abs(nhiet_do[i+1]-nhiet_do[i]),2)\n",
    "    ngay_chenh_lech.append(chenh_lech_nhiet_do)\n",
    "    \n",
    "ngay_chenh_lech=np.array(ngay_chenh_lech)\n",
    "chenh_lech_lon_nhat=np.max(ngay_chenh_lech)\n",
    "ngay_chenh_lech_lon_nhat=np.argmax(ngay_chenh_lech)+1\n",
    "\n",
    "print(ngay_chenh_lech)\n",
    "print(f\"Sự chênh lệch lớn nhất là :{chenh_lech_lon_nhat} độ C, giữa ngày {ngay_chenh_lech_lon_nhat} và {ngay_chenh_lech_lon_nhat+1}\")\n"
   ]
  },
  {
   "cell_type": "markdown",
   "metadata": {},
   "source": [
    "Áp dụng Fancy Indexing: (10 phút)\n",
    "Đưa ra tất cả các ngày có nhiệt độ cao hơn 20 độ C.\n",
    "Lấy nhiệt độ của ngày 5, 10, 15, 20, và 25.\n",
    "Tìm nhiệt độ của các ngày có nhiệt độ trên trung bình.\n",
    "Lấy nhiệt độ của các ngày chẵn/lẻ trong tháng."
   ]
  },
  {
   "cell_type": "code",
   "execution_count": 51,
   "metadata": {},
   "outputs": [
    {
     "name": "stdout",
     "output_type": "stream",
     "text": [
      "Ngày có nhiệt độ trên 20 độ C là : [2, 4, 5, 9, 10, 12, 15, 21, 23, 24, 27, 28] cụ thể là :[26.85, 23.14, 26.79, 21.65, 20.13, 20.35, 28.26, 22.66, 21.92, 20.8, 20.23, 21.57]\n",
      "Nhiệt độ ngày 5, 10, 15 ,20 ,25 lần lượt là : [26.79 20.13 28.26 18.6  18.5 ]\n",
      "Các ngày có nhiệt độ trên trung bình là : [2, 4, 5, 9, 10, 11, 12, 13, 15, 17, 20, 21, 23, 24, 25, 27, 28] độ C với nhiệt độ lần lượt là : [26.85, 23.14, 26.79, 21.65, 20.13, 18.24, 20.35, 18.88, 28.26, 19.74, 18.6, 22.66, 21.92, 20.8, 18.5, 20.23, 21.57]\n",
      "Nhiệt độ ngày chẵn là :[26.85 23.14 12.72 12.56 20.13 20.35 11.26 14.07 17.78 18.6  11.97 20.8\n",
      " 15.82 21.57 15.43]\n",
      "Nhiệt độ ngày lẻ là : [10.65 12.67 26.79 14.01 21.65 18.24 18.88 28.26 19.74 11.6  22.66 21.92\n",
      " 18.5  20.23 15.02]\n"
     ]
    }
   ],
   "source": [
    "ngay_lon_hon_20do = []\n",
    "nhiet_do_tren_20do = []\n",
    "for i in range(len(nhiet_do)):\n",
    "    if nhiet_do[i]>20:\n",
    "        ngay_lon_hon_20do.append(i+1)\n",
    "        nhiet_do_tren_20do.append(nhiet_do[i])\n",
    "\n",
    "print(f\"Ngày có nhiệt độ trên 20 độ C là : {ngay_lon_hon_20do} cụ thể là :{nhiet_do_tren_20do}\")\n",
    "\n",
    "danh_sach_ngay=[5,10,15,20,25]\n",
    "nhiet_do_cu_the=[]\n",
    "for i in range(len(danh_sach_ngay)):\n",
    "    nhiet_do_ngay=nhiet_do[danh_sach_ngay[i]-1]\n",
    "    nhiet_do_cu_the.append(nhiet_do_ngay)\n",
    "nhiet_do_cu_the=np.array(nhiet_do_cu_the)\n",
    "print(\"Nhiệt độ ngày 5, 10, 15 ,20 ,25 lần lượt là :\",nhiet_do_cu_the)\n",
    "\n",
    "nhiet_do_trung_binh=np.mean(nhiet_do)\n",
    "ngay_nhiet_do_tren_tb=[]\n",
    "nhiet_do_tren_tb=[]\n",
    "for i in range (len(nhiet_do)):\n",
    "    if nhiet_do[i]>nhiet_do_trung_binh:\n",
    "        ngay_nhiet_do_tren_tb.append(i+1)\n",
    "        nhiet_do_tren_tb.append(nhiet_do[i])\n",
    "\n",
    "print(f\"Các ngày có nhiệt độ trên trung bình là : {ngay_nhiet_do_tren_tb} độ C với nhiệt độ lần lượt là : {nhiet_do_tren_tb}\")\n",
    "\n",
    "nhiet_do_ngay_chan = nhiet_do[1::2]  \n",
    "nhiet_do_ngay_le = nhiet_do[0::2]  \n",
    "print(f\"Nhiệt độ ngày chẵn là :{nhiet_do_ngay_chan}\")\n",
    "print(f\"Nhiệt độ ngày lẻ là : {nhiet_do_ngay_le}\")\n"
   ]
  }
 ],
 "metadata": {
  "kernelspec": {
   "display_name": "Python 3",
   "language": "python",
   "name": "python3"
  },
  "language_info": {
   "codemirror_mode": {
    "name": "ipython",
    "version": 3
   },
   "file_extension": ".py",
   "mimetype": "text/x-python",
   "name": "python",
   "nbconvert_exporter": "python",
   "pygments_lexer": "ipython3",
   "version": "3.10.11"
  }
 },
 "nbformat": 4,
 "nbformat_minor": 2
}
